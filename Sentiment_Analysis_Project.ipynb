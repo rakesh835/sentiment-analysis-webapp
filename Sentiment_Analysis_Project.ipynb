{
  "nbformat": 4,
  "nbformat_minor": 0,
  "metadata": {
    "colab": {
      "name": "Sentiment Analysis Project",
      "provenance": [],
      "collapsed_sections": [],
      "authorship_tag": "ABX9TyNpenPWR7oAyIgzqQ/NmoLv",
      "include_colab_link": true
    },
    "kernelspec": {
      "name": "python3",
      "display_name": "Python 3"
    },
    "accelerator": "GPU"
  },
  "cells": [
    {
      "cell_type": "markdown",
      "metadata": {
        "id": "view-in-github",
        "colab_type": "text"
      },
      "source": [
        "<a href=\"https://colab.research.google.com/github/rakesh835/sentiment-analysis-webapp/blob/master/Sentiment_Analysis_Project.ipynb\" target=\"_parent\"><img src=\"https://colab.research.google.com/assets/colab-badge.svg\" alt=\"Open In Colab\"/></a>"
      ]
    },
    {
      "cell_type": "code",
      "metadata": {
        "id": "ywtNKmgqO7tG",
        "outputId": "f31be7de-dafb-46dd-d1a1-8c80122323c7",
        "colab": {
          "base_uri": "https://localhost:8080/",
          "height": 204
        }
      },
      "source": [
        "%mkdir ../data\n",
        "!wget -O ../data/aclImdb_v1.tar.gz http://ai.stanford.edu/~amaas/data/sentiment/aclImdb_v1.tar.gz\n",
        "!tar -zxf ../data/aclImdb_v1.tar.gz -C ../data"
      ],
      "execution_count": null,
      "outputs": [
        {
          "output_type": "stream",
          "text": [
            "--2020-07-23 11:45:29--  http://ai.stanford.edu/~amaas/data/sentiment/aclImdb_v1.tar.gz\n",
            "Resolving ai.stanford.edu (ai.stanford.edu)... 171.64.68.10\n",
            "Connecting to ai.stanford.edu (ai.stanford.edu)|171.64.68.10|:80... connected.\n",
            "HTTP request sent, awaiting response... 200 OK\n",
            "Length: 84125825 (80M) [application/x-gzip]\n",
            "Saving to: ‘../data/aclImdb_v1.tar.gz’\n",
            "\n",
            "\r          ../data/a   0%[                    ]       0  --.-KB/s               \r         ../data/ac   0%[                    ] 551.74K  2.58MB/s               \r        ../data/acl   5%[>                   ]   4.27M  10.2MB/s               \r       ../data/aclI  27%[====>               ]  22.13M  35.9MB/s               \r      ../data/aclIm  54%[=========>          ]  43.96M  53.8MB/s               \r     ../data/aclImd  82%[===============>    ]  65.93M  64.8MB/s               \r../data/aclImdb_v1. 100%[===================>]  80.23M  69.8MB/s    in 1.1s    \n",
            "\n",
            "2020-07-23 11:45:31 (69.8 MB/s) - ‘../data/aclImdb_v1.tar.gz’ saved [84125825/84125825]\n",
            "\n"
          ],
          "name": "stdout"
        }
      ]
    },
    {
      "cell_type": "code",
      "metadata": {
        "id": "xgrB_W7EPBdm"
      },
      "source": [
        "import os\n",
        "import glob\n",
        "\n",
        "def read_imdb_data(data_dir='../data/aclImdb'):\n",
        "    data = {}\n",
        "    labels = {}\n",
        "    \n",
        "    for data_type in ['train', 'test']:\n",
        "        data[data_type] = {}\n",
        "        labels[data_type] = {}\n",
        "        \n",
        "        for sentiment in ['pos', 'neg']:\n",
        "            data[data_type][sentiment] = []\n",
        "            labels[data_type][sentiment] = []\n",
        "            \n",
        "            path = os.path.join(data_dir, data_type, sentiment, '*.txt')\n",
        "            files = glob.glob(path)\n",
        "            \n",
        "            for f in files:\n",
        "                with open(f) as review:\n",
        "                    data[data_type][sentiment].append(review.read())\n",
        "                    # Here we represent a positive review by '1' and a negative review by '0'\n",
        "                    labels[data_type][sentiment].append(1 if sentiment == 'pos' else 0)\n",
        "                    \n",
        "            assert len(data[data_type][sentiment]) == len(labels[data_type][sentiment]), \\\n",
        "                    \"{}/{} data size does not match labels size\".format(data_type, sentiment)\n",
        "                \n",
        "    return data, labels"
      ],
      "execution_count": null,
      "outputs": []
    },
    {
      "cell_type": "code",
      "metadata": {
        "id": "8wQsg-NqPO7a",
        "outputId": "c518817f-874e-4f5a-cc0e-0f0bf5002c3c",
        "colab": {
          "base_uri": "https://localhost:8080/",
          "height": 34
        }
      },
      "source": [
        "data, labels = read_imdb_data()\n",
        "print(\"IMDB reviews: train = {} pos / {} neg, test = {} pos / {} neg\".format(\n",
        "            len(data['train']['pos']), len(data['train']['neg']),\n",
        "            len(data['test']['pos']), len(data['test']['neg'])))"
      ],
      "execution_count": null,
      "outputs": [
        {
          "output_type": "stream",
          "text": [
            "IMDB reviews: train = 12500 pos / 12500 neg, test = 12500 pos / 12500 neg\n"
          ],
          "name": "stdout"
        }
      ]
    },
    {
      "cell_type": "code",
      "metadata": {
        "id": "pvggv4o8R0iJ"
      },
      "source": [
        "from sklearn.utils import shuffle\n",
        "\n",
        "def prepare_imdb_data(data, labels):\n",
        "    \"\"\"Prepare training and test sets from IMDb movie reviews.\"\"\"\n",
        "    \n",
        "    #Combine positive and negative reviews and labels\n",
        "    data_train = data['train']['pos'] + data['train']['neg']\n",
        "    data_test = data['test']['pos'] + data['test']['neg']\n",
        "    labels_train = labels['train']['pos'] + labels['train']['neg']\n",
        "    labels_test = labels['test']['pos'] + labels['test']['neg']\n",
        "    \n",
        "    #Shuffle reviews and corresponding labels within training and test sets\n",
        "    data_train, labels_train = shuffle(data_train, labels_train)\n",
        "    data_test, labels_test = shuffle(data_test, labels_test)\n",
        "    \n",
        "    # Return a unified training data, test data, training labels, test labets\n",
        "    return data_train, data_test, labels_train, labels_test"
      ],
      "execution_count": null,
      "outputs": []
    },
    {
      "cell_type": "code",
      "metadata": {
        "id": "ZipOuULYR67Z",
        "outputId": "6e4aca60-0bd2-48b4-c4a1-2ee33fd710aa",
        "colab": {
          "base_uri": "https://localhost:8080/",
          "height": 34
        }
      },
      "source": [
        "train_X, test_X, train_y, test_y = prepare_imdb_data(data, labels)\n",
        "print(\"IMDb reviews (combined): train = {}, test = {}\".format(len(train_X), len(test_X)))"
      ],
      "execution_count": null,
      "outputs": [
        {
          "output_type": "stream",
          "text": [
            "IMDb reviews (combined): train = 25000, test = 25000\n"
          ],
          "name": "stdout"
        }
      ]
    },
    {
      "cell_type": "code",
      "metadata": {
        "id": "u0qpcSBbR-Jf",
        "outputId": "1e26e020-9040-402e-f64f-5198720d0f50",
        "colab": {
          "base_uri": "https://localhost:8080/",
          "height": 71
        }
      },
      "source": [
        "print(train_X[100])\n",
        "print(train_y[100])"
      ],
      "execution_count": null,
      "outputs": [
        {
          "output_type": "stream",
          "text": [
            "It's a shame that Deliverance is mainly known as the redneck rape movie and for Dueling Banjos. Even people that have seen the film can't get their mind off of that rape scene. It's not as bad as the rape scene in Pulp Fiction. It's certainly not as bad as any female rape scene in just about any movie. People tend to miss the power of the film that contains the infamous buggery scene.<br /><br />The acting, plot, cinematography, and soundtrack of Deliverance all lend a hand to it's brooding charisma. The backcountry it was shot in is beautiful and is quite in contrast to the dark subject matter. The actors both major and minor make you feel like you are rafting down that river right along with them. <br /><br />The thing that separates this film from others is the tangible sense of dread that it inspires. Not many films can make you feel this creeped out. Bottom Line: This movie is a classic. I can't really say much more than that.\n",
            "1\n"
          ],
          "name": "stdout"
        }
      ]
    },
    {
      "cell_type": "code",
      "metadata": {
        "id": "lDO9vOZRSDDu",
        "outputId": "4996f60c-cc72-4dc6-a16d-4284c1ea994e",
        "colab": {
          "base_uri": "https://localhost:8080/",
          "height": 51
        }
      },
      "source": [
        "import nltk\n",
        "from nltk.corpus import stopwords\n",
        "\n",
        "nltk.download('stopwords')\n",
        "stoplist = stopwords.words('english')\n",
        "\n",
        "import re\n",
        "from bs4 import BeautifulSoup\n",
        "\n",
        "from nltk.stem.porter import *\n",
        "stemmer = PorterStemmer()"
      ],
      "execution_count": null,
      "outputs": [
        {
          "output_type": "stream",
          "text": [
            "[nltk_data] Downloading package stopwords to /root/nltk_data...\n",
            "[nltk_data]   Unzipping corpora/stopwords.zip.\n"
          ],
          "name": "stdout"
        }
      ]
    },
    {
      "cell_type": "code",
      "metadata": {
        "id": "TmN6-x05aVvF"
      },
      "source": [
        "def preprocessing(data_for_preprocess):\n",
        "  data=[]\n",
        "  for review in data_for_preprocess:\n",
        "    string=\"\"\n",
        "    \n",
        "    text = BeautifulSoup(review, \"html.parser\").get_text()\n",
        "    text = re.sub(r\"[^a-zA-Z0-9]\", \" \", text.lower())\n",
        "  \n",
        "    for word in text.lower().split():\n",
        "      if word not in stoplist: # removing stopwords from reviews\n",
        "        word=PorterStemmer().stem(word)\n",
        "        string=string+word+\" \"\n",
        "        \n",
        "    data.append(string.rstrip())\n",
        "    \n",
        "  return data"
      ],
      "execution_count": null,
      "outputs": []
    },
    {
      "cell_type": "code",
      "metadata": {
        "id": "1kPq_lbVc70d"
      },
      "source": [
        "training_data=preprocessing(train_X)"
      ],
      "execution_count": null,
      "outputs": []
    },
    {
      "cell_type": "code",
      "metadata": {
        "id": "1-E4Km6hSPSp",
        "outputId": "ec9a1fef-a7fc-4e64-cab3-868e8da0d4ed",
        "colab": {
          "base_uri": "https://localhost:8080/",
          "height": 88
        }
      },
      "source": [
        "training_data[2:5]"
      ],
      "execution_count": null,
      "outputs": [
        {
          "output_type": "execute_result",
          "data": {
            "text/plain": [
              "['movi badli written direct act beggar belief remad better script director cast servic worst problem act jennif beal one hand polish profession total believ hand ri chard woefulli miscast jar particular piec peter gallagh jenni levin aw slave own keep coupl although normal fine work actor director attempt accent inconsist unbeliev much better concentr good job actual english cast ludicr children african merchant thu less social desir gen de couleur societi cast pale skin actor supposedli social desir marcel pronounc african featur includ obvious dy blond fro cast director cannot bother read script cast chose appropri actor larg pool extrem talent physic divers actor color weird could great movi made peopl respect materi choos appropri skill actor plenti good actor would fun see jennif beal daniel sunjata gloria reuben would appropri cast good script decent direct',\n",
              " 'admit holli watch list edinburgh film festiv howev artist director festiv specif recommend film audienc 200 peopl prior screen anoth film decid go see wow film deal difficult issu child prostitut without compromis found cri number time movi laugh other speak emot roller coaster lead actor thuy nguyen vietnames newcom 14 time film tackl incred complex difficult role remind keisha castl hugh whale rider role much demand play child prostitut chanc win numer award main stori girl sold prostitut famili held sex slave brothel cambodia meet american play ron livingston strong dramat role use see spend time decid help time howev sold go search around cambodia stori turn twist audienc never predict happen next act strong across board interest intern cast udo kier convinc sex tourist virgin ledoyen touch social worker chri penn one last movi asian cast also superb although film deal difficult subject matter focus success tell compel power stori shot cambodia scene real oper brothel add feel almost watch documentari seem dp use lot hand held camera close up overal made feel like right part stori screen listen member audienc left seem stun easi film watch salut filmmak make hollywood film far best film seen edinburgh film festiv opinion share husband coupl friend',\n",
              " 'movi funni take nerd stereotyp amplifi main charact make less 30k year live parent social retard luck women joke horribl unimagin two gamer get beat black midget one kkk look hood wizard costum guy john rocker warm oh funni nerd know sport may childish high schooler find stuff funni poorli done mockmuntari pain watch obvious extrem cheap make feel sorri kelli lebrock beverli angelo guess opportun avail hotti way past prime']"
            ]
          },
          "metadata": {
            "tags": []
          },
          "execution_count": 10
        }
      ]
    },
    {
      "cell_type": "code",
      "metadata": {
        "id": "l3ZaNk6ZZ_3E"
      },
      "source": [
        "import numpy as np\n",
        "\n",
        "training_labels=np.array(train_y)"
      ],
      "execution_count": null,
      "outputs": []
    },
    {
      "cell_type": "code",
      "metadata": {
        "id": "BEDaiu9uelFH",
        "outputId": "704866c8-ff8e-4696-b61c-0f241948e57c",
        "colab": {
          "base_uri": "https://localhost:8080/",
          "height": 34
        }
      },
      "source": [
        "training_labels[2:5]"
      ],
      "execution_count": null,
      "outputs": [
        {
          "output_type": "execute_result",
          "data": {
            "text/plain": [
              "array([0, 1, 0])"
            ]
          },
          "metadata": {
            "tags": []
          },
          "execution_count": 12
        }
      ]
    },
    {
      "cell_type": "code",
      "metadata": {
        "id": "vgO4G0AVke4D",
        "outputId": "3be47b77-981f-4a42-ae5a-c53684713e75",
        "colab": {
          "base_uri": "https://localhost:8080/",
          "height": 34
        }
      },
      "source": [
        "max_length=[len(i.split()) for i in training_data]\n",
        "print(max(max_length))"
      ],
      "execution_count": null,
      "outputs": [
        {
          "output_type": "stream",
          "text": [
            "1429\n"
          ],
          "name": "stdout"
        }
      ]
    },
    {
      "cell_type": "code",
      "metadata": {
        "id": "sMVcfbZQfT5q"
      },
      "source": [
        "%tensorflow_version 2.x\n",
        "import tensorflow as tf\n",
        "from tensorflow.keras.preprocessing.text import Tokenizer\n",
        "from tensorflow.keras.preprocessing.sequence import pad_sequences\n",
        "\n",
        "oov_tok=\"<OOV_tok>\"\n",
        "padding=\"post\"\n",
        "max_length=200\n",
        "trunc_type=\"post\"\n",
        "vocab_size=30000\n",
        "\n",
        "#using tokenization on train data\n",
        "tokenizer=Tokenizer(num_words=vocab_size, oov_token=oov_tok)\n",
        "tokenizer.fit_on_texts(training_data)\n",
        "word_index=tokenizer.word_index\n",
        "\n",
        "train_sequence=tokenizer.texts_to_sequences(training_data)\n",
        "train_pad_sequence=pad_sequences(train_sequence, padding=padding, maxlen=max_length, truncating=trunc_type)"
      ],
      "execution_count": null,
      "outputs": []
    },
    {
      "cell_type": "code",
      "metadata": {
        "id": "Xm0JDYnDh2Tj"
      },
      "source": [
        "import pickle\n",
        "\n",
        "with open('tokenizer.pickle', 'wb') as handle:\n",
        "  pickle.dump(tokenizer, handle, protocol=pickle.HIGHEST_PROTOCOL)"
      ],
      "execution_count": null,
      "outputs": []
    },
    {
      "cell_type": "code",
      "metadata": {
        "id": "6ke1kchmj2rt"
      },
      "source": [
        "reverse_word_index=dict([(j, i) for i, j in word_index.items()])"
      ],
      "execution_count": null,
      "outputs": []
    },
    {
      "cell_type": "code",
      "metadata": {
        "id": "eNiyzLEDlSgv",
        "outputId": "1df6d5cb-6c98-4468-ab1f-5ca722f798fa",
        "colab": {
          "base_uri": "https://localhost:8080/",
          "height": 34
        }
      },
      "source": [
        "len(reverse_word_index)"
      ],
      "execution_count": null,
      "outputs": [
        {
          "output_type": "execute_result",
          "data": {
            "text/plain": [
              "51858"
            ]
          },
          "metadata": {
            "tags": []
          },
          "execution_count": 16
        }
      ]
    },
    {
      "cell_type": "code",
      "metadata": {
        "id": "euB42ne6lX96",
        "outputId": "56c87f27-4906-47a4-8e96-d4b595d1a6c6",
        "colab": {
          "base_uri": "https://localhost:8080/",
          "height": 71
        }
      },
      "source": [
        "def decode_review(review):\n",
        "    return \" \".join([reverse_word_index.get(i, \"?\") for i in review])\n",
        "\n",
        "print(decode_review(train_pad_sequence[1]))\n",
        "print(train_X[1:2])"
      ],
      "execution_count": null,
      "outputs": [
        {
          "output_type": "stream",
          "text": [
            "two sailor leav ladi man joseph bradi gene kelli shi innoc clarenc doolittl frank sinatra meet beauti susan abbott kathryn grayson fall love probabl guess stori even 1940 music ridicul everyth nice wholesom get annoy pretti quick also movi far long 140 minut way much silli stori also bore number jose iturbi orchestra still worth catch kelli danc sinatra grayson sing becom magic none song particularli memor sinatra beauti voic care shot rich technicolor gloss mgm act ok kelli fine although see ladi man push sinatra great although see shi guy push grayson given noth incred beauti look shot liter took breath away plenti highlight sinatra kelli big danc sing number sinatra sing anyth grayson two song justli famou anim sequenc kelli danc jerri anim mous tom funni cameo also littl dean stockwel steal everi scene long plot hold still worth catch huge hit day ? ? ? ? ? ? ? ? ? ? ? ? ? ? ? ? ? ? ? ? ? ? ? ? ? ? ? ? ? ? ? ? ? ? ? ? ? ? ? ? ? ? ? ? ? ? ? ? ? ? ? ? ? ? ?\n",
            "[\"Two sailors are on leave--ladies man Joseph Brady (Gene Kelly) and shy innocent Clarence Doolittle (Frank Sinatra). They meet beautiful Susan Abbott (Kathryn Grayson) and both fall in love with her. There's more but you've probably guessed it.<br /><br />The story (even for a 1940s musical) is ridiculous and everything is so nice and wholesome--gets annoying pretty quick. Also this movie is far too long. It's 140 minutes and that's way too much for such a silly story. There are also some boring numbers by Jose Iturbi and his orchestra. Still this is worth catching.<br /><br />When Kelly is dancing or Sinatra or Grayson are singing this becomes magical. None of the songs are particularly memorable but Sinatra had such a beautiful voice you won't care. It's shot in rich Technicolor with all the gloss MGM had. The acting is OK--Kelly is fine (although seeing him as a ladies man is pushing it) and Sinatra is just great (although seeing HIM as a shy guy was pushing it too!). Grayson is given nothing to do but she's incredibly beautiful to look at. Some shots of her literally took my breath away! There are plenty of highlights here: Sinatra and Kelly's big dancing and singing number; Sinatra singing anything; Grayson's two songs and the justly famous animated sequence in which Kelly dances with Jerry--an animated mouse! Tom does a funny cameo too. Also there's little Dean Stockwell who steals every scene he's in.<br /><br />So it's too long and the plot just doesn't hold up but it's still worth catching. This was a huge hit in its day.\"]\n"
          ],
          "name": "stdout"
        }
      ]
    },
    {
      "cell_type": "code",
      "metadata": {
        "id": "MQ908tYPloyq"
      },
      "source": [
        "embid_dim=16\n",
        "\n",
        "model = tf.keras.Sequential([\n",
        "    tf.keras.layers.Embedding(vocab_size, embid_dim, input_length=max_length),\n",
        "    tf.keras.layers.Bidirectional(tf.keras.layers.LSTM(64, return_sequences=True)),\n",
        "    tf.keras.layers.Bidirectional(tf.keras.layers.LSTM(32)),\n",
        "    tf.keras.layers.Dense(64, activation='relu'),\n",
        "    tf.keras.layers.Dense(1, activation='sigmoid')\n",
        "])"
      ],
      "execution_count": null,
      "outputs": []
    },
    {
      "cell_type": "code",
      "metadata": {
        "id": "IH6lwLV2mq1q",
        "outputId": "c82df069-1f4c-4e26-fef5-d38c9eac82a8",
        "colab": {
          "base_uri": "https://localhost:8080/",
          "height": 323
        }
      },
      "source": [
        "model.compile(optimizer=\"adam\", loss=\"binary_crossentropy\", metrics=['accuracy'])\n",
        "model.summary()"
      ],
      "execution_count": null,
      "outputs": [
        {
          "output_type": "stream",
          "text": [
            "Model: \"sequential_1\"\n",
            "_________________________________________________________________\n",
            "Layer (type)                 Output Shape              Param #   \n",
            "=================================================================\n",
            "embedding_1 (Embedding)      (None, 200, 16)           480000    \n",
            "_________________________________________________________________\n",
            "bidirectional_2 (Bidirection (None, 200, 128)          41472     \n",
            "_________________________________________________________________\n",
            "bidirectional_3 (Bidirection (None, 64)                41216     \n",
            "_________________________________________________________________\n",
            "dense_2 (Dense)              (None, 64)                4160      \n",
            "_________________________________________________________________\n",
            "dense_3 (Dense)              (None, 1)                 65        \n",
            "=================================================================\n",
            "Total params: 566,913\n",
            "Trainable params: 566,913\n",
            "Non-trainable params: 0\n",
            "_________________________________________________________________\n"
          ],
          "name": "stdout"
        }
      ]
    },
    {
      "cell_type": "code",
      "metadata": {
        "id": "gyyRrpgGmzJj",
        "outputId": "70e1b0ee-886f-409a-d50b-8c2ef2763810",
        "colab": {
          "base_uri": "https://localhost:8080/",
          "height": 221
        }
      },
      "source": [
        "epochs=6\n",
        "\n",
        "history=model.fit(train_pad_sequence, training_labels, epochs=epochs)"
      ],
      "execution_count": null,
      "outputs": [
        {
          "output_type": "stream",
          "text": [
            "Epoch 1/6\n",
            "782/782 [==============================] - 27s 35ms/step - loss: 0.4400 - accuracy: 0.7960\n",
            "Epoch 2/6\n",
            "782/782 [==============================] - 27s 34ms/step - loss: 0.2316 - accuracy: 0.9150\n",
            "Epoch 3/6\n",
            "782/782 [==============================] - 27s 34ms/step - loss: 0.1447 - accuracy: 0.9502\n",
            "Epoch 4/6\n",
            "782/782 [==============================] - 27s 34ms/step - loss: 0.0956 - accuracy: 0.9696\n",
            "Epoch 5/6\n",
            "782/782 [==============================] - 27s 34ms/step - loss: 0.0573 - accuracy: 0.9816\n",
            "Epoch 6/6\n",
            "782/782 [==============================] - 27s 34ms/step - loss: 0.0679 - accuracy: 0.9772\n"
          ],
          "name": "stdout"
        }
      ]
    },
    {
      "cell_type": "code",
      "metadata": {
        "id": "QClmj35km5gv"
      },
      "source": [
        "test_sequence=tokenizer.texts_to_sequences(test_X)\n",
        "test_pad_sequence=pad_sequences(test_sequence, maxlen=max_length, padding=padding, truncating=trunc_type)"
      ],
      "execution_count": null,
      "outputs": []
    },
    {
      "cell_type": "code",
      "metadata": {
        "id": "PiItQMJRpolC"
      },
      "source": [
        "predictions=model.predict(test_pad_sequence)"
      ],
      "execution_count": null,
      "outputs": []
    },
    {
      "cell_type": "code",
      "metadata": {
        "id": "FmamIfygp8nr"
      },
      "source": [
        "test_labels=np.array(test_y)"
      ],
      "execution_count": null,
      "outputs": []
    },
    {
      "cell_type": "code",
      "metadata": {
        "id": "LsqJMLHwsV0y",
        "outputId": "8d9dc84f-d48b-45e4-ea07-37d501efc2f4",
        "colab": {
          "base_uri": "https://localhost:8080/",
          "height": 34
        }
      },
      "source": [
        "len(test_labels)"
      ],
      "execution_count": null,
      "outputs": [
        {
          "output_type": "execute_result",
          "data": {
            "text/plain": [
              "25000"
            ]
          },
          "metadata": {
            "tags": []
          },
          "execution_count": 42
        }
      ]
    },
    {
      "cell_type": "code",
      "metadata": {
        "id": "TjYhfKMhiikA"
      },
      "source": [
        "predict=[]\n",
        "for value in predictions:\n",
        "  if value>=0.5:\n",
        "    predict.append(1)\n",
        "  else:\n",
        "    predict.append(0)"
      ],
      "execution_count": null,
      "outputs": []
    },
    {
      "cell_type": "code",
      "metadata": {
        "id": "qdS-dztIptPj",
        "outputId": "345cedf8-42f5-494b-fff9-fc8e78f8d1b3",
        "colab": {
          "base_uri": "https://localhost:8080/",
          "height": 34
        }
      },
      "source": [
        "from sklearn.metrics import accuracy_score\n",
        "print(accuracy_score(test_labels, predict))"
      ],
      "execution_count": null,
      "outputs": [
        {
          "output_type": "stream",
          "text": [
            "0.6298\n"
          ],
          "name": "stdout"
        }
      ]
    },
    {
      "cell_type": "code",
      "metadata": {
        "id": "HTpX1SbBqILf",
        "outputId": "379f912e-5cb0-4f3f-8e10-fecab1627224",
        "colab": {
          "base_uri": "https://localhost:8080/",
          "height": 34
        }
      },
      "source": [
        "predict[:10]"
      ],
      "execution_count": null,
      "outputs": [
        {
          "output_type": "execute_result",
          "data": {
            "text/plain": [
              "[1, 1, 1, 0, 0, 0, 0, 0, 1, 0]"
            ]
          },
          "metadata": {
            "tags": []
          },
          "execution_count": 45
        }
      ]
    },
    {
      "cell_type": "code",
      "metadata": {
        "id": "-NVyFyWnjvbc",
        "outputId": "f994ae2c-537b-415e-bc2d-dfd785d26fd1",
        "colab": {
          "base_uri": "https://localhost:8080/",
          "height": 34
        }
      },
      "source": [
        "test_labels[:10]"
      ],
      "execution_count": null,
      "outputs": [
        {
          "output_type": "execute_result",
          "data": {
            "text/plain": [
              "array([0, 1, 1, 0, 0, 1, 0, 0, 1, 1])"
            ]
          },
          "metadata": {
            "tags": []
          },
          "execution_count": 46
        }
      ]
    },
    {
      "cell_type": "code",
      "metadata": {
        "id": "CF3rGiB_j0xx"
      },
      "source": [
        "review=\"i don't like lsd and ggm as it's too long, very bad movie don't waste your time\""
      ],
      "execution_count": null,
      "outputs": []
    },
    {
      "cell_type": "code",
      "metadata": {
        "id": "QF_67K6mooiY"
      },
      "source": [
        "review=review.split(' ',0)\n",
        "test_sequence=tokenizer.texts_to_sequences(review)\n",
        "testing=pad_sequences(test_sequence, maxlen=max_length, padding=padding, truncating=trunc_type)"
      ],
      "execution_count": null,
      "outputs": []
    },
    {
      "cell_type": "code",
      "metadata": {
        "id": "4IJZs_EqoyHx"
      },
      "source": [
        "output=model.predict(testing)"
      ],
      "execution_count": null,
      "outputs": []
    },
    {
      "cell_type": "code",
      "metadata": {
        "id": "UnKm_aGqslk4",
        "outputId": "aefc8354-d72e-43ce-899d-b2c255240685",
        "colab": {
          "base_uri": "https://localhost:8080/",
          "height": 34
        }
      },
      "source": [
        "output"
      ],
      "execution_count": null,
      "outputs": [
        {
          "output_type": "execute_result",
          "data": {
            "text/plain": [
              "array([[0.17960969]], dtype=float32)"
            ]
          },
          "metadata": {
            "tags": []
          },
          "execution_count": 50
        }
      ]
    },
    {
      "cell_type": "code",
      "metadata": {
        "id": "_RGKYf8mo26X",
        "outputId": "dda8b48c-9d12-47f3-9379-adf7d9d7126a",
        "colab": {
          "base_uri": "https://localhost:8080/",
          "height": 34
        }
      },
      "source": [
        "if output[0][0]>=0.5:\n",
        "  print('+ve')\n",
        "else:\n",
        "  print('-ve')"
      ],
      "execution_count": null,
      "outputs": [
        {
          "output_type": "stream",
          "text": [
            "-ve\n"
          ],
          "name": "stdout"
        }
      ]
    },
    {
      "cell_type": "code",
      "metadata": {
        "id": "FEymq-VevLj9"
      },
      "source": [
        "import time\n",
        "\n",
        "export_path='./sentiment_analysis{}.h5'.format(int(time.time()))\n",
        "model.save(export_path)"
      ],
      "execution_count": null,
      "outputs": []
    },
    {
      "cell_type": "code",
      "metadata": {
        "id": "xq63ATC4wkVM"
      },
      "source": [
        ""
      ],
      "execution_count": null,
      "outputs": []
    }
  ]
}